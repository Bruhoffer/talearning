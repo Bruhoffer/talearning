{
 "cells": [
  {
   "cell_type": "code",
   "execution_count": 1,
   "id": "fb2860fc",
   "metadata": {},
   "outputs": [],
   "source": [
    "import yfinance as yf\n",
    "import matplotlib.pyplot as plt\n",
    "import pandas as pd\n",
    "import numpy as np"
   ]
  },
  {
   "cell_type": "code",
   "execution_count": 8,
   "id": "30009966",
   "metadata": {},
   "outputs": [
    {
     "name": "stderr",
     "output_type": "stream",
     "text": [
      "[*********************100%***********************]  1 of 1 completed"
     ]
    },
    {
     "name": "stdout",
     "output_type": "stream",
     "text": [
      "0.04720943871272492\n",
      "1.1759270290351824\n"
     ]
    },
    {
     "name": "stderr",
     "output_type": "stream",
     "text": [
      "\n"
     ]
    },
    {
     "data": {
      "text/html": [
       "<div>\n",
       "<style scoped>\n",
       "    .dataframe tbody tr th:only-of-type {\n",
       "        vertical-align: middle;\n",
       "    }\n",
       "\n",
       "    .dataframe tbody tr th {\n",
       "        vertical-align: top;\n",
       "    }\n",
       "\n",
       "    .dataframe thead th {\n",
       "        text-align: right;\n",
       "    }\n",
       "</style>\n",
       "<table border=\"1\" class=\"dataframe\">\n",
       "  <thead>\n",
       "    <tr style=\"text-align: right;\">\n",
       "      <th>Price</th>\n",
       "      <th>Close</th>\n",
       "      <th>High</th>\n",
       "      <th>Low</th>\n",
       "      <th>Open</th>\n",
       "      <th>Volume</th>\n",
       "      <th>Close_Change</th>\n",
       "      <th>High_Change</th>\n",
       "      <th>Low_Change</th>\n",
       "      <th>Open_Change</th>\n",
       "      <th>Volume_Change</th>\n",
       "      <th>Big_Movement</th>\n",
       "    </tr>\n",
       "  </thead>\n",
       "  <tbody>\n",
       "    <tr>\n",
       "      <th>1</th>\n",
       "      <td>24.485960</td>\n",
       "      <td>24.485960</td>\n",
       "      <td>24.330329</td>\n",
       "      <td>24.330329</td>\n",
       "      <td>480500</td>\n",
       "      <td>0.711201</td>\n",
       "      <td>0.639622</td>\n",
       "      <td>0.499963</td>\n",
       "      <td>-0.000037</td>\n",
       "      <td>-52.103270</td>\n",
       "      <td>0</td>\n",
       "    </tr>\n",
       "    <tr>\n",
       "      <th>2</th>\n",
       "      <td>24.537836</td>\n",
       "      <td>24.555128</td>\n",
       "      <td>24.416790</td>\n",
       "      <td>24.468667</td>\n",
       "      <td>201300</td>\n",
       "      <td>0.211860</td>\n",
       "      <td>0.282482</td>\n",
       "      <td>0.355362</td>\n",
       "      <td>0.568582</td>\n",
       "      <td>-58.106139</td>\n",
       "      <td>0</td>\n",
       "    </tr>\n",
       "    <tr>\n",
       "      <th>3</th>\n",
       "      <td>24.797237</td>\n",
       "      <td>24.814530</td>\n",
       "      <td>24.555144</td>\n",
       "      <td>24.572437</td>\n",
       "      <td>529400</td>\n",
       "      <td>1.057148</td>\n",
       "      <td>1.056404</td>\n",
       "      <td>0.566638</td>\n",
       "      <td>0.424094</td>\n",
       "      <td>162.990561</td>\n",
       "      <td>0</td>\n",
       "    </tr>\n",
       "    <tr>\n",
       "      <th>4</th>\n",
       "      <td>24.900972</td>\n",
       "      <td>24.952849</td>\n",
       "      <td>24.607003</td>\n",
       "      <td>24.883680</td>\n",
       "      <td>531500</td>\n",
       "      <td>0.418333</td>\n",
       "      <td>0.557414</td>\n",
       "      <td>0.211190</td>\n",
       "      <td>1.266636</td>\n",
       "      <td>0.396675</td>\n",
       "      <td>0</td>\n",
       "    </tr>\n",
       "    <tr>\n",
       "      <th>5</th>\n",
       "      <td>24.883690</td>\n",
       "      <td>24.935567</td>\n",
       "      <td>24.745351</td>\n",
       "      <td>24.883690</td>\n",
       "      <td>492100</td>\n",
       "      <td>-0.069405</td>\n",
       "      <td>-0.069260</td>\n",
       "      <td>0.562232</td>\n",
       "      <td>0.000040</td>\n",
       "      <td>-7.412982</td>\n",
       "      <td>0</td>\n",
       "    </tr>\n",
       "    <tr>\n",
       "      <th>...</th>\n",
       "      <td>...</td>\n",
       "      <td>...</td>\n",
       "      <td>...</td>\n",
       "      <td>...</td>\n",
       "      <td>...</td>\n",
       "      <td>...</td>\n",
       "      <td>...</td>\n",
       "      <td>...</td>\n",
       "      <td>...</td>\n",
       "      <td>...</td>\n",
       "      <td>...</td>\n",
       "    </tr>\n",
       "    <tr>\n",
       "      <th>8233</th>\n",
       "      <td>662.229980</td>\n",
       "      <td>665.830017</td>\n",
       "      <td>653.169983</td>\n",
       "      <td>657.169983</td>\n",
       "      <td>88779600</td>\n",
       "      <td>-0.122164</td>\n",
       "      <td>0.105244</td>\n",
       "      <td>-1.000354</td>\n",
       "      <td>-0.526760</td>\n",
       "      <td>11.587534</td>\n",
       "      <td>0</td>\n",
       "    </tr>\n",
       "    <tr>\n",
       "      <th>8234</th>\n",
       "      <td>665.169983</td>\n",
       "      <td>670.229980</td>\n",
       "      <td>658.929993</td>\n",
       "      <td>666.820007</td>\n",
       "      <td>81702600</td>\n",
       "      <td>0.443955</td>\n",
       "      <td>0.660824</td>\n",
       "      <td>0.881855</td>\n",
       "      <td>1.468421</td>\n",
       "      <td>-7.971426</td>\n",
       "      <td>0</td>\n",
       "    </tr>\n",
       "    <tr>\n",
       "      <th>8235</th>\n",
       "      <td>660.640015</td>\n",
       "      <td>668.710022</td>\n",
       "      <td>657.109985</td>\n",
       "      <td>666.820007</td>\n",
       "      <td>110563300</td>\n",
       "      <td>-0.681024</td>\n",
       "      <td>-0.226782</td>\n",
       "      <td>-0.276206</td>\n",
       "      <td>0.000000</td>\n",
       "      <td>35.324090</td>\n",
       "      <td>0</td>\n",
       "    </tr>\n",
       "    <tr>\n",
       "      <th>8236</th>\n",
       "      <td>664.390015</td>\n",
       "      <td>665.760010</td>\n",
       "      <td>658.140015</td>\n",
       "      <td>659.500000</td>\n",
       "      <td>96500900</td>\n",
       "      <td>0.567631</td>\n",
       "      <td>-0.441150</td>\n",
       "      <td>0.156751</td>\n",
       "      <td>-1.097749</td>\n",
       "      <td>-12.718868</td>\n",
       "      <td>0</td>\n",
       "    </tr>\n",
       "    <tr>\n",
       "      <th>8237</th>\n",
       "      <td>671.299988</td>\n",
       "      <td>672.210022</td>\n",
       "      <td>667.270020</td>\n",
       "      <td>667.320007</td>\n",
       "      <td>60409500</td>\n",
       "      <td>1.040048</td>\n",
       "      <td>0.968819</td>\n",
       "      <td>1.387244</td>\n",
       "      <td>1.185748</td>\n",
       "      <td>-37.400066</td>\n",
       "      <td>0</td>\n",
       "    </tr>\n",
       "  </tbody>\n",
       "</table>\n",
       "<p>8237 rows × 11 columns</p>\n",
       "</div>"
      ],
      "text/plain": [
       "Price       Close        High         Low        Open     Volume  \\\n",
       "1       24.485960   24.485960   24.330329   24.330329     480500   \n",
       "2       24.537836   24.555128   24.416790   24.468667     201300   \n",
       "3       24.797237   24.814530   24.555144   24.572437     529400   \n",
       "4       24.900972   24.952849   24.607003   24.883680     531500   \n",
       "5       24.883690   24.935567   24.745351   24.883690     492100   \n",
       "...           ...         ...         ...         ...        ...   \n",
       "8233   662.229980  665.830017  653.169983  657.169983   88779600   \n",
       "8234   665.169983  670.229980  658.929993  666.820007   81702600   \n",
       "8235   660.640015  668.710022  657.109985  666.820007  110563300   \n",
       "8236   664.390015  665.760010  658.140015  659.500000   96500900   \n",
       "8237   671.299988  672.210022  667.270020  667.320007   60409500   \n",
       "\n",
       "Price  Close_Change  High_Change  Low_Change  Open_Change  Volume_Change  \\\n",
       "1          0.711201     0.639622    0.499963    -0.000037     -52.103270   \n",
       "2          0.211860     0.282482    0.355362     0.568582     -58.106139   \n",
       "3          1.057148     1.056404    0.566638     0.424094     162.990561   \n",
       "4          0.418333     0.557414    0.211190     1.266636       0.396675   \n",
       "5         -0.069405    -0.069260    0.562232     0.000040      -7.412982   \n",
       "...             ...          ...         ...          ...            ...   \n",
       "8233      -0.122164     0.105244   -1.000354    -0.526760      11.587534   \n",
       "8234       0.443955     0.660824    0.881855     1.468421      -7.971426   \n",
       "8235      -0.681024    -0.226782   -0.276206     0.000000      35.324090   \n",
       "8236       0.567631    -0.441150    0.156751    -1.097749     -12.718868   \n",
       "8237       1.040048     0.968819    1.387244     1.185748     -37.400066   \n",
       "\n",
       "Price  Big_Movement  \n",
       "1                 0  \n",
       "2                 0  \n",
       "3                 0  \n",
       "4                 0  \n",
       "5                 0  \n",
       "...             ...  \n",
       "8233              0  \n",
       "8234              0  \n",
       "8235              0  \n",
       "8236              0  \n",
       "8237              0  \n",
       "\n",
       "[8237 rows x 11 columns]"
      ]
     },
     "execution_count": 8,
     "metadata": {},
     "output_type": "execute_result"
    },
    {
     "data": {
      "image/png": "[encoded data removed]",
      "text/plain": [
       "<Figure size 640x480 with 1 Axes>"
      ]
     },
     "metadata": {},
     "output_type": "display_data"
    },
    {
     "data": {
      "image/png": "[encoded data removed]",
      "text/plain": [
       "<Figure size 640x480 with 1 Axes>"
      ]
     },
     "metadata": {},
     "output_type": "display_data"
    }
   ],
   "source": [
    "TICKER = 'SPY'\n",
    "INTERVAL = '1d'\n",
    "PERIOD = '730d' if INTERVAL == '1h' else 'max'\n",
    "\n",
    "LOOKBACK = 10000\n",
    "\n",
    "def get_data(ticker=TICKER, lookback=LOOKBACK, interval=INTERVAL):\n",
    "    df = yf.download(ticker, interval=interval, auto_adjust=True, period=PERIOD)\n",
    "    df.columns = df.columns.get_level_values(0)\n",
    "    df = df.reset_index(drop=True)\n",
    "\n",
    "    for c in df.columns:\n",
    "        df[f'{c}_Change'] = df[c].pct_change() * 100\n",
    "\n",
    "    # only return the subset of data you are interested in\n",
    "    subset = df.iloc[-lookback:, :]\n",
    "    plt.figure()\n",
    "    plt.plot(subset['Close'])\n",
    "    plt.title(f'Price Movements for {ticker} During Study')\n",
    "\n",
    "    plt.figure()\n",
    "    plt.hist(df['Close_Change'], bins=50)\n",
    "\n",
    "    return subset.dropna()\n",
    "\n",
    "def add_big_price_movement(df):\n",
    "\n",
    "    close_change_avg = df['Close_Change'].mean()\n",
    "    close_change_std = df['Close_Change'].std()\n",
    "    print(close_change_avg)\n",
    "    print(close_change_std)\n",
    "\n",
    "    df['Big_Movement'] = np.where(df['Close_Change'] > close_change_avg + (close_change_std * 2), 1, \n",
    "                                  np.where(df['Close_Change'] < close_change_avg - (close_change_std * 2), -1, 0))\n",
    "\n",
    "    return df\n",
    "\n",
    "def main():\n",
    "    df = get_data()\n",
    "    df = add_big_price_movement(df)\n",
    "    return df\n",
    "\n",
    "df = main()\n",
    "df"
   ]
  },
  {
   "cell_type": "code",
   "execution_count": 3,
   "id": "4aaa2139",
   "metadata": {},
   "outputs": [
    {
     "data": {
      "text/plain": [
       "Big_Movement\n",
       " 0    7840\n",
       "-1     230\n",
       " 1     168\n",
       "Name: count, dtype: int64"
      ]
     },
     "execution_count": 3,
     "metadata": {},
     "output_type": "execute_result"
    }
   ],
   "source": [
    "df['Big_Movement'].value_counts()"
   ]
  },
  {
   "cell_type": "code",
   "execution_count": 6,
   "id": "104ff051",
   "metadata": {},
   "outputs": [
    {
     "data": {
      "text/plain": [
       "np.float64(-0.2411041424522029)"
      ]
     },
     "execution_count": 6,
     "metadata": {},
     "output_type": "execute_result"
    }
   ],
   "source": [
    "df['Day_After'] = df['Big_Movement'].shift(1)\n",
    "large_pos_shifts = df.loc[df['Day_After'] == 1]\n",
    "large_pos_shifts['Close_Change'].mean()"
   ]
  },
  {
   "cell_type": "code",
   "execution_count": 7,
   "id": "99b18fad",
   "metadata": {},
   "outputs": [
    {
     "data": {
      "text/plain": [
       "np.float64(0.4053700152310099)"
      ]
     },
     "execution_count": 7,
     "metadata": {},
     "output_type": "execute_result"
    }
   ],
   "source": [
    "df['Day_After'] = df['Big_Movement'].shift(1)\n",
    "large_neg_shifts = df.loc[df['Day_After'] == -1]\n",
    "large_neg_shifts['Close_Change'].mean()"
   ]
  }
 ],
 "metadata": {
  "kernelspec": {
   "display_name": "myenv",
   "language": "python",
   "name": "python3"
  },
  "language_info": {
   "codemirror_mode": {
    "name": "ipython",
    "version": 3
   },
   "file_extension": ".py",
   "mimetype": "text/x-python",
   "name": "python",
   "nbconvert_exporter": "python",
   "pygments_lexer": "ipython3",
   "version": "3.12.5"
  }
 },
 "nbformat": 4,
 "nbformat_minor": 5
}
