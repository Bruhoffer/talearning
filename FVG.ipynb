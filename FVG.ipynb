{
 "cells": [
  {
   "cell_type": "code",
   "execution_count": 2,
   "id": "48720f7c",
   "metadata": {},
   "outputs": [],
   "source": [
    "import yfinance as yf\n",
    "import numpy as np\n",
    "import pandas as pd\n",
    "\n",
    "import matplotlib.pyplot as plt\n",
    "\n"
   ]
  },
  {
   "cell_type": "code",
   "execution_count": null,
   "id": "28569bc1",
   "metadata": {},
   "outputs": [
    {
     "name": "stderr",
     "output_type": "stream",
     "text": [
      "/var/folders/yl/gn9fldpj69169vhn466y4klh0000gn/T/ipykernel_15084/2057046489.py:6: FutureWarning: YF.download() has changed argument auto_adjust default to True\n",
      "  df=yf.download(ticker,start='2010-01-01')\n",
      "[*********************100%***********************]  1 of 1 completed\n"
     ]
    },
    {
     "data": {
      "image/png": "[encoded data removed]",
      "text/plain": [
       "<Figure size 640x480 with 1 Axes>"
      ]
     },
     "metadata": {},
     "output_type": "display_data"
    },
    {
     "data": {
      "image/png": "[encoded data removed]",
      "text/plain": [
       "<Figure size 640x480 with 1 Axes>"
      ]
     },
     "metadata": {},
     "output_type": "display_data"
    }
   ],
   "source": [
    "TICKER = 'SPY'\n",
    "LOOKBACK = 1000\n",
    "HOLDING_PERIOD = 5\n",
    "\n",
    "def get_data(ticker=TICKER):\n",
    "    df=yf.download(ticker,start='2010-01-01')\n",
    "    df.columns = df.columns.get_level_values(0)\n",
    "    \n",
    "    #only return the usbset of data interested in\n",
    "    return df.iloc[-LOOKBACK:,:]\n",
    "\n",
    "def bull_fvg(df):\n",
    "\n",
    "    df['High_2prev'] = df['High'].shift(2)\n",
    "    df['Bull_FVG'] = (df['Low'] > df['High_2prev']).astype(int)\n",
    "    df['Bull_FVG_Val'] = (df['Low'] - df['High_2prev']) * df['Bull_FVG'] / df['Close']\n",
    "\n",
    "    fvg_subset = df[df['Bull_FVG_Val'] > 0]\n",
    "\n",
    "    plt.hist(fvg_subset['Bull_FVG_Val'], bins=10)\n",
    "    plt.title('Bullish Fair Value Gap Values')\n",
    "\n",
    "    return df\n",
    "\n",
    "def bear_fvg(df):\n",
    "\n",
    "    df['Low_2prev'] = df['Low'].shift(2)\n",
    "    df['Bear_FVG'] = (df['High'] < df['Low_2prev']).astype(int)\n",
    "    df['Bear_FVG_Val'] = (df['High'] - df['Low_2prev']) * df['Bear_FVG'] / df['Close']\n",
    "\n",
    "    fvg_subset = df[df['Bear_FVG_Val'] < 0]\n",
    "\n",
    "    plt.figure()\n",
    "    plt.hist(fvg_subset['Bear_FVG_Val'], bins=10)\n",
    "    plt.title('Bearish Fair Value Gap Values')\n",
    "\n",
    "    return df\n",
    "\n",
    "def assess_bull_FVG(df, holding_period=HOLDING_PERIOD):\n",
    "\n",
    "    #5 day holding period returns\n",
    "    df[f'Returns_In_{holding_period}_Periods'] = df['Close'].shift(-holding_period) / df['Close']\n",
    "    \n",
    "    fvg_subset = df[df['Bull_FVG_Val'] > 0]\n",
    "    print(f'{len(fvg_subset)} Bullish FVGs')\n",
    "    print(f'Bull FVG {holding_period} Period Average returns: {round((fvg_subset[f'Returns_In_{holding_period}_Periods'].mean() - 1) * 100, 2)}%')\n",
    "\n",
    "    win_rate = (fvg_subset[f'Returns_In_{holding_period}_Periods'] < 1).mean() * 100\n",
    "    print(f'Bull FVG Win Rate: {round(win_rate, 2)}%')\n",
    "\n",
    "    # define quantiles\n",
    "    lower = fvg_subset['Bull_FVG_Val'].quantile(.25)\n",
    "    upper = fvg_subset['Bull_FVG_Val'].quantile(.75)\n",
    "\n",
    "    # subset\n",
    "    fvg_medium_val = fvg_subset[\n",
    "        (fvg_subset['Bull_FVG_Val'] >= lower) & (fvg_subset['Bull_FVG_Val'] <= upper)\n",
    "    ]\n",
    "    print(f'{len(fvg_medium_val)} Medium Sized Bullish FVGs')\n",
    "    print(f'Medium Bull FVG {holding_period} Period Average returns: {round((fvg_medium_val[f'Returns_In_{holding_period}_Periods'].mean() - 1) * 100, 2)}%')\n",
    "\n",
    "    win_rate_medium = (fvg_medium_val[f'Returns_In_{holding_period}_Periods'] < 1).mean() * 100\n",
    "    print(f'Medium Bull FVG Win Rate: {round(win_rate_medium, 2)}%')\n",
    "\n",
    "    return df\n",
    "\n",
    "def assess_bear_FVG(df, holding_period=HOLDING_PERIOD):\n",
    "\n",
    "    #5 day holding period returns\n",
    "    df[f'Returns_In_{holding_period}_Periods'] = df['Close'].shift(-holding_period) / df['Close']\n",
    "    \n",
    "    fvg_subset = df[df['Bear_FVG_Val'] < 0]\n",
    "    print(f'{len(fvg_subset)} Bearish FVGS')\n",
    "    print(f'Bear FVG {holding_period} Period Average returns: {round((fvg_subset[f'Returns_In_{holding_period}_Periods'].mean() - 1) * 100, 2)}%')\n",
    "\n",
    "    win_rate = (fvg_subset[f'Returns_In_{holding_period}_Periods'] > 1).mean() * 100\n",
    "    print(f'Bear FVG Win Rate: {round(win_rate, 2)}%')\n",
    "\n",
    "\n",
    "    # define quantiles\n",
    "    lower = fvg_subset['Bear_FVG_Val'].quantile(.25)\n",
    "    upper = fvg_subset['Bear_FVG_Val'].quantile(.75)\n",
    "\n",
    "    # subset\n",
    "    fvg_medium_val = fvg_subset[\n",
    "        (fvg_subset['Bear_FVG_Val'] >= lower) & (fvg_subset['Bear_FVG_Val'] <= upper)\n",
    "    ]\n",
    "    print(f'{len(fvg_medium_val)} Medium Sized Bearish FVGs')\n",
    "    print(f'Medium Bear FVG {holding_period} Period Average returns: {round((fvg_medium_val[f'Returns_In_{holding_period}_Periods'].mean() - 1) * 100, 2)}%')\n",
    "\n",
    "    win_rate_medium = (fvg_medium_val[f'Returns_In_{holding_period}_Periods'] > 1).mean() * 100\n",
    "    print(f'Medium Bull FVG Win Rate: {round(win_rate_medium, 2)}%')\n",
    "\n",
    "    return df\n",
    "\n",
    "def main():\n",
    "    df = get_data()\n",
    "    df = bull_fvg(df)\n",
    "    df = bear_fvg(df)\n",
    "    df = assess_bull_FVG(df)\n",
    "    df = assess_bear_FVG(df)\n",
    "\n",
    "    return df\n",
    "\n",
    "df = main()\n",
    "    "
   ]
  },
  {
   "cell_type": "code",
   "execution_count": 16,
   "id": "e5bf0d61",
   "metadata": {},
   "outputs": [
    {
     "name": "stdout",
     "output_type": "stream",
     "text": [
      "220 trades taken\n",
      "138 trades taken\n"
     ]
    },
    {
     "data": {
      "text/plain": [
       "np.float64(1.0024665455940414)"
      ]
     },
     "execution_count": 16,
     "metadata": {},
     "output_type": "execute_result"
    }
   ],
   "source": [
    "def assess_bull_FVG(df, holding_period=HOLDING_PERIOD):\n",
    "    \n",
    "    #5 day holding period returns\n",
    "    df[f'Price_{holding_period}P_Ago'] = df['Close'].shift(-holding_period) / df['Close']\n",
    "    fvg_subset = df[df['Bull_FVG_Val'] > 0]\n",
    "    \n",
    "    print(f'{len(fvg_subset)} trades taken')\n",
    "    \n",
    "    return fvg_subset[f'Price_{holding_period}P_Ago'].mean() \n",
    "\n",
    "def assess_bear_FVG(df, holding_period=HOLDING_PERIOD):\n",
    "    \n",
    "    #5 day holding period returns\n",
    "    df[f'Price_{holding_period}P_Ago'] = df['Close'].shift(-holding_period) / df['Close']\n",
    "    fvg_subset = df[df['Bear_FVG_Val'] < 0]\n",
    "    \n",
    "    print(f'{len(fvg_subset)} trades taken')\n",
    "    \n",
    "    return fvg_subset[f'Price_{holding_period}P_Ago'].mean() \n",
    "\n",
    "assess_bull_FVG(df)\n",
    "assess_bear_FVG(df)\n",
    "    "
   ]
  },
  {
   "cell_type": "code",
   "execution_count": 10,
   "id": "350f5314",
   "metadata": {},
   "outputs": [
    {
     "data": {
      "text/plain": [
       "(array([74., 62., 37., 25., 11.,  4.,  4.,  2.,  2.,  1.]),\n",
       " array([5.53784424e-08, 3.12920541e-03, 6.25835544e-03, 9.38750548e-03,\n",
       "        1.25166555e-02, 1.56458055e-02, 1.87749556e-02, 2.19041056e-02,\n",
       "        2.50332556e-02, 2.81624057e-02, 3.12915557e-02]),\n",
       " <BarContainer object of 10 artists>)"
      ]
     },
     "execution_count": 10,
     "metadata": {},
     "output_type": "execute_result"
    },
    {
     "data": {
      "image/png": "[encoded data removed]",
      "text/plain": [
       "<Figure size 640x480 with 1 Axes>"
      ]
     },
     "metadata": {},
     "output_type": "display_data"
    }
   ],
   "source": [
    "FVGs = df[df['Bull_FVG_Val'] > 0]\n",
    "plt.hist(FVGs['Bull_FVG_Val'], bins = 10)"
   ]
  }
 ],
 "metadata": {
  "kernelspec": {
   "display_name": "myenv",
   "language": "python",
   "name": "python3"
  },
  "language_info": {
   "codemirror_mode": {
    "name": "ipython",
    "version": 3
   },
   "file_extension": ".py",
   "mimetype": "text/x-python",
   "name": "python",
   "nbconvert_exporter": "python",
   "pygments_lexer": "ipython3",
   "version": "3.12.5"
  }
 },
 "nbformat": 4,
 "nbformat_minor": 5
}
