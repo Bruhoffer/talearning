{
 "cells": [
  {
   "cell_type": "code",
   "execution_count": null,
   "id": "5035b383",
   "metadata": {},
   "outputs": [],
   "source": [
    "import yfinance as yf\n",
    "import numpy as np\n",
    "import pandas as pd\n",
    "import matplotlib.pyplot as plt\n",
    "import sklearn as sk"
   ]
  },
  {
   "cell_type": "code",
   "execution_count": null,
   "id": "d60533d8",
   "metadata": {},
   "outputs": [],
   "source": [
    "TICKER = 'DUOL'\n",
    "INTERVAL='1d'\n",
    "\n",
    "# set period based on interval\n",
    "if INTERVAL == '1h':\n",
    "    PERIOD = '730d'\n",
    "else:\n",
    "    PERIOD = 'max'\n",
    "\n",
    "MFI_LENGTH = 14\n",
    "OVERBOUGHT = 70\n",
    "OVERSOLD = 30\n",
    "BB_LEN = 20\n",
    "DEVS = 1\n",
    "\n",
    "\n",
    "# what subsetion of that data are you interested in\n",
    "LOOKBACK = 10000\n",
    "\n",
    "def get_data(ticker=TICKER, lookback=LOOKBACK, interval=INTERVAL):\n",
    "\n",
    "    # get data at interval you want\n",
    "    df = yf.download(ticker, interval=interval, period=PERIOD)\n",
    "    df.columns = df.columns.get_level_values(0)\n",
    "\n",
    "    # reset the index to make plots prettier\n",
    "    df = df.reset_index(drop=True)\n",
    "\n",
    "    # only return the subset of data you are interested in\n",
    "    return df.iloc[-lookback:, :]\n",
    "\n",
    "def main():\n",
    "    \n",
    "    df = get_data()\n",
    "    return df"
   ]
  }
 ],
 "metadata": {
  "kernelspec": {
   "display_name": "myenv",
   "language": "python",
   "name": "python3"
  },
  "language_info": {
   "codemirror_mode": {
    "name": "ipython",
    "version": 3
   },
   "file_extension": ".py",
   "mimetype": "text/x-python",
   "name": "python",
   "nbconvert_exporter": "python",
   "pygments_lexer": "ipython3",
   "version": "3.12.5"
  }
 },
 "nbformat": 4,
 "nbformat_minor": 5
}
